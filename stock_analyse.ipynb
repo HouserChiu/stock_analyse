{
 "cells": [
  {
   "cell_type": "code",
   "execution_count": 69,
   "metadata": {
    "ExecuteTime": {
     "end_time": "2020-03-11T11:54:01.912703Z",
     "start_time": "2020-03-11T11:54:01.908713Z"
    }
   },
   "outputs": [],
   "source": [
    "import tushare as ts\n",
    "import pandas as pd \n",
    "from pandas import Series,DataFrame"
   ]
  },
  {
   "cell_type": "code",
   "execution_count": 70,
   "metadata": {
    "ExecuteTime": {
     "end_time": "2020-03-11T11:54:06.155928Z",
     "start_time": "2020-03-11T11:54:02.335600Z"
    }
   },
   "outputs": [],
   "source": [
    "#使用tushare获取贵州茅台的历史行情数据\n",
    "df = ts.get_k_data('600519', start='1988-01-01')\n",
    "#将数据写入到本地进行永久性储存\n",
    "df.to_csv('./maotai.csv')"
   ]
  },
  {
   "cell_type": "code",
   "execution_count": 71,
   "metadata": {
    "ExecuteTime": {
     "end_time": "2020-03-11T11:54:06.187609Z",
     "start_time": "2020-03-11T11:54:06.157661Z"
    }
   },
   "outputs": [
    {
     "data": {
      "text/html": [
       "<div>\n",
       "<style scoped>\n",
       "    .dataframe tbody tr th:only-of-type {\n",
       "        vertical-align: middle;\n",
       "    }\n",
       "\n",
       "    .dataframe tbody tr th {\n",
       "        vertical-align: top;\n",
       "    }\n",
       "\n",
       "    .dataframe thead th {\n",
       "        text-align: right;\n",
       "    }\n",
       "</style>\n",
       "<table border=\"1\" class=\"dataframe\">\n",
       "  <thead>\n",
       "    <tr style=\"text-align: right;\">\n",
       "      <th></th>\n",
       "      <th>Unnamed: 0</th>\n",
       "      <th>date</th>\n",
       "      <th>open</th>\n",
       "      <th>close</th>\n",
       "      <th>high</th>\n",
       "      <th>low</th>\n",
       "      <th>volume</th>\n",
       "      <th>code</th>\n",
       "    </tr>\n",
       "  </thead>\n",
       "  <tbody>\n",
       "    <tr>\n",
       "      <th>0</th>\n",
       "      <td>0</td>\n",
       "      <td>2001-08-27</td>\n",
       "      <td>5.392</td>\n",
       "      <td>5.554</td>\n",
       "      <td>5.902</td>\n",
       "      <td>5.132</td>\n",
       "      <td>406318.00</td>\n",
       "      <td>600519</td>\n",
       "    </tr>\n",
       "    <tr>\n",
       "      <th>1</th>\n",
       "      <td>1</td>\n",
       "      <td>2001-08-28</td>\n",
       "      <td>5.467</td>\n",
       "      <td>5.759</td>\n",
       "      <td>5.781</td>\n",
       "      <td>5.407</td>\n",
       "      <td>129647.79</td>\n",
       "      <td>600519</td>\n",
       "    </tr>\n",
       "    <tr>\n",
       "      <th>2</th>\n",
       "      <td>2</td>\n",
       "      <td>2001-08-29</td>\n",
       "      <td>5.777</td>\n",
       "      <td>5.684</td>\n",
       "      <td>5.781</td>\n",
       "      <td>5.640</td>\n",
       "      <td>53252.75</td>\n",
       "      <td>600519</td>\n",
       "    </tr>\n",
       "    <tr>\n",
       "      <th>3</th>\n",
       "      <td>3</td>\n",
       "      <td>2001-08-30</td>\n",
       "      <td>5.668</td>\n",
       "      <td>5.796</td>\n",
       "      <td>5.860</td>\n",
       "      <td>5.624</td>\n",
       "      <td>48013.06</td>\n",
       "      <td>600519</td>\n",
       "    </tr>\n",
       "    <tr>\n",
       "      <th>4</th>\n",
       "      <td>4</td>\n",
       "      <td>2001-08-31</td>\n",
       "      <td>5.804</td>\n",
       "      <td>5.782</td>\n",
       "      <td>5.877</td>\n",
       "      <td>5.749</td>\n",
       "      <td>23231.48</td>\n",
       "      <td>600519</td>\n",
       "    </tr>\n",
       "  </tbody>\n",
       "</table>\n",
       "</div>"
      ],
      "text/plain": [
       "   Unnamed: 0        date   open  close   high    low     volume    code\n",
       "0           0  2001-08-27  5.392  5.554  5.902  5.132  406318.00  600519\n",
       "1           1  2001-08-28  5.467  5.759  5.781  5.407  129647.79  600519\n",
       "2           2  2001-08-29  5.777  5.684  5.781  5.640   53252.75  600519\n",
       "3           3  2001-08-30  5.668  5.796  5.860  5.624   48013.06  600519\n",
       "4           4  2001-08-31  5.804  5.782  5.877  5.749   23231.48  600519"
      ]
     },
     "execution_count": 71,
     "metadata": {},
     "output_type": "execute_result"
    }
   ],
   "source": [
    "df = pd.read_csv('./maotai.csv')\n",
    "df.head(5)"
   ]
  },
  {
   "cell_type": "code",
   "execution_count": 72,
   "metadata": {
    "ExecuteTime": {
     "end_time": "2020-03-11T11:54:06.199549Z",
     "start_time": "2020-03-11T11:54:06.189576Z"
    }
   },
   "outputs": [
    {
     "data": {
      "text/html": [
       "<div>\n",
       "<style scoped>\n",
       "    .dataframe tbody tr th:only-of-type {\n",
       "        vertical-align: middle;\n",
       "    }\n",
       "\n",
       "    .dataframe tbody tr th {\n",
       "        vertical-align: top;\n",
       "    }\n",
       "\n",
       "    .dataframe thead th {\n",
       "        text-align: right;\n",
       "    }\n",
       "</style>\n",
       "<table border=\"1\" class=\"dataframe\">\n",
       "  <thead>\n",
       "    <tr style=\"text-align: right;\">\n",
       "      <th></th>\n",
       "      <th>date</th>\n",
       "      <th>open</th>\n",
       "      <th>close</th>\n",
       "      <th>high</th>\n",
       "      <th>low</th>\n",
       "      <th>volume</th>\n",
       "      <th>code</th>\n",
       "    </tr>\n",
       "  </thead>\n",
       "  <tbody>\n",
       "    <tr>\n",
       "      <th>0</th>\n",
       "      <td>2001-08-27</td>\n",
       "      <td>5.392</td>\n",
       "      <td>5.554</td>\n",
       "      <td>5.902</td>\n",
       "      <td>5.132</td>\n",
       "      <td>406318.00</td>\n",
       "      <td>600519</td>\n",
       "    </tr>\n",
       "    <tr>\n",
       "      <th>1</th>\n",
       "      <td>2001-08-28</td>\n",
       "      <td>5.467</td>\n",
       "      <td>5.759</td>\n",
       "      <td>5.781</td>\n",
       "      <td>5.407</td>\n",
       "      <td>129647.79</td>\n",
       "      <td>600519</td>\n",
       "    </tr>\n",
       "    <tr>\n",
       "      <th>2</th>\n",
       "      <td>2001-08-29</td>\n",
       "      <td>5.777</td>\n",
       "      <td>5.684</td>\n",
       "      <td>5.781</td>\n",
       "      <td>5.640</td>\n",
       "      <td>53252.75</td>\n",
       "      <td>600519</td>\n",
       "    </tr>\n",
       "    <tr>\n",
       "      <th>3</th>\n",
       "      <td>2001-08-30</td>\n",
       "      <td>5.668</td>\n",
       "      <td>5.796</td>\n",
       "      <td>5.860</td>\n",
       "      <td>5.624</td>\n",
       "      <td>48013.06</td>\n",
       "      <td>600519</td>\n",
       "    </tr>\n",
       "    <tr>\n",
       "      <th>4</th>\n",
       "      <td>2001-08-31</td>\n",
       "      <td>5.804</td>\n",
       "      <td>5.782</td>\n",
       "      <td>5.877</td>\n",
       "      <td>5.749</td>\n",
       "      <td>23231.48</td>\n",
       "      <td>600519</td>\n",
       "    </tr>\n",
       "  </tbody>\n",
       "</table>\n",
       "</div>"
      ],
      "text/plain": [
       "         date   open  close   high    low     volume    code\n",
       "0  2001-08-27  5.392  5.554  5.902  5.132  406318.00  600519\n",
       "1  2001-08-28  5.467  5.759  5.781  5.407  129647.79  600519\n",
       "2  2001-08-29  5.777  5.684  5.781  5.640   53252.75  600519\n",
       "3  2001-08-30  5.668  5.796  5.860  5.624   48013.06  600519\n",
       "4  2001-08-31  5.804  5.782  5.877  5.749   23231.48  600519"
      ]
     },
     "execution_count": 72,
     "metadata": {},
     "output_type": "execute_result"
    }
   ],
   "source": [
    "#将Unnamed：0为无用的列删除\n",
    "df.drop(labels='Unnamed: 0', axis=1, inplace=True)\n",
    "df.head(5)"
   ]
  },
  {
   "cell_type": "code",
   "execution_count": 73,
   "metadata": {
    "ExecuteTime": {
     "end_time": "2020-03-11T11:54:06.207555Z",
     "start_time": "2020-03-11T11:54:06.200546Z"
    }
   },
   "outputs": [
    {
     "data": {
      "text/plain": [
       "date       object\n",
       "open      float64\n",
       "close     float64\n",
       "high      float64\n",
       "low       float64\n",
       "volume    float64\n",
       "code        int64\n",
       "dtype: object"
      ]
     },
     "execution_count": 73,
     "metadata": {},
     "output_type": "execute_result"
    }
   ],
   "source": [
    "df.dtypes"
   ]
  },
  {
   "cell_type": "code",
   "execution_count": 74,
   "metadata": {
    "ExecuteTime": {
     "end_time": "2020-03-11T11:54:06.976082Z",
     "start_time": "2020-03-11T11:54:06.969101Z"
    }
   },
   "outputs": [],
   "source": [
    "#将data列转为时间序列类型\n",
    "df['date'] = pd.to_datetime(df['date'])"
   ]
  },
  {
   "cell_type": "code",
   "execution_count": 75,
   "metadata": {
    "ExecuteTime": {
     "end_time": "2020-03-11T11:54:07.628198Z",
     "start_time": "2020-03-11T11:54:07.624208Z"
    }
   },
   "outputs": [],
   "source": [
    "#将data列作为原数据的行索引\n",
    "df.set_index(df['date'], inplace=True)"
   ]
  },
  {
   "cell_type": "code",
   "execution_count": 76,
   "metadata": {
    "ExecuteTime": {
     "end_time": "2020-03-11T11:54:08.094174Z",
     "start_time": "2020-03-11T11:54:08.082179Z"
    }
   },
   "outputs": [
    {
     "data": {
      "text/html": [
       "<div>\n",
       "<style scoped>\n",
       "    .dataframe tbody tr th:only-of-type {\n",
       "        vertical-align: middle;\n",
       "    }\n",
       "\n",
       "    .dataframe tbody tr th {\n",
       "        vertical-align: top;\n",
       "    }\n",
       "\n",
       "    .dataframe thead th {\n",
       "        text-align: right;\n",
       "    }\n",
       "</style>\n",
       "<table border=\"1\" class=\"dataframe\">\n",
       "  <thead>\n",
       "    <tr style=\"text-align: right;\">\n",
       "      <th></th>\n",
       "      <th>open</th>\n",
       "      <th>close</th>\n",
       "      <th>high</th>\n",
       "      <th>low</th>\n",
       "      <th>volume</th>\n",
       "      <th>code</th>\n",
       "    </tr>\n",
       "    <tr>\n",
       "      <th>date</th>\n",
       "      <th></th>\n",
       "      <th></th>\n",
       "      <th></th>\n",
       "      <th></th>\n",
       "      <th></th>\n",
       "      <th></th>\n",
       "    </tr>\n",
       "  </thead>\n",
       "  <tbody>\n",
       "    <tr>\n",
       "      <th>2001-08-27</th>\n",
       "      <td>5.392</td>\n",
       "      <td>5.554</td>\n",
       "      <td>5.902</td>\n",
       "      <td>5.132</td>\n",
       "      <td>406318.00</td>\n",
       "      <td>600519</td>\n",
       "    </tr>\n",
       "    <tr>\n",
       "      <th>2001-08-28</th>\n",
       "      <td>5.467</td>\n",
       "      <td>5.759</td>\n",
       "      <td>5.781</td>\n",
       "      <td>5.407</td>\n",
       "      <td>129647.79</td>\n",
       "      <td>600519</td>\n",
       "    </tr>\n",
       "    <tr>\n",
       "      <th>2001-08-29</th>\n",
       "      <td>5.777</td>\n",
       "      <td>5.684</td>\n",
       "      <td>5.781</td>\n",
       "      <td>5.640</td>\n",
       "      <td>53252.75</td>\n",
       "      <td>600519</td>\n",
       "    </tr>\n",
       "    <tr>\n",
       "      <th>2001-08-30</th>\n",
       "      <td>5.668</td>\n",
       "      <td>5.796</td>\n",
       "      <td>5.860</td>\n",
       "      <td>5.624</td>\n",
       "      <td>48013.06</td>\n",
       "      <td>600519</td>\n",
       "    </tr>\n",
       "    <tr>\n",
       "      <th>2001-08-31</th>\n",
       "      <td>5.804</td>\n",
       "      <td>5.782</td>\n",
       "      <td>5.877</td>\n",
       "      <td>5.749</td>\n",
       "      <td>23231.48</td>\n",
       "      <td>600519</td>\n",
       "    </tr>\n",
       "  </tbody>\n",
       "</table>\n",
       "</div>"
      ],
      "text/plain": [
       "             open  close   high    low     volume    code\n",
       "date                                                     \n",
       "2001-08-27  5.392  5.554  5.902  5.132  406318.00  600519\n",
       "2001-08-28  5.467  5.759  5.781  5.407  129647.79  600519\n",
       "2001-08-29  5.777  5.684  5.781  5.640   53252.75  600519\n",
       "2001-08-30  5.668  5.796  5.860  5.624   48013.06  600519\n",
       "2001-08-31  5.804  5.782  5.877  5.749   23231.48  600519"
      ]
     },
     "execution_count": 76,
     "metadata": {},
     "output_type": "execute_result"
    }
   ],
   "source": [
    "df.drop(labels='date', axis=1, inplace=True)\n",
    "df.head()"
   ]
  },
  {
   "cell_type": "code",
   "execution_count": 77,
   "metadata": {
    "ExecuteTime": {
     "end_time": "2020-03-11T11:54:08.680419Z",
     "start_time": "2020-03-11T11:54:08.673409Z"
    },
    "code_folding": []
   },
   "outputs": [
    {
     "data": {
      "text/plain": [
       "date\n",
       "2001-08-27     True\n",
       "2001-08-28     True\n",
       "2001-08-29    False\n",
       "2001-08-30    False\n",
       "2001-08-31    False\n",
       "2001-09-03    False\n",
       "2001-09-04    False\n",
       "2001-09-05    False\n",
       "2001-09-06    False\n",
       "2001-09-07    False\n",
       "2001-09-10     True\n",
       "2001-09-11    False\n",
       "2001-09-12    False\n",
       "2001-09-13    False\n",
       "2001-09-14    False\n",
       "2001-09-17    False\n",
       "2001-09-18    False\n",
       "2001-09-19    False\n",
       "2001-09-20    False\n",
       "2001-09-21    False\n",
       "2001-09-24    False\n",
       "2001-09-25    False\n",
       "2001-09-26    False\n",
       "2001-09-27    False\n",
       "2001-09-28    False\n",
       "2001-10-08    False\n",
       "2001-10-09    False\n",
       "2001-10-10    False\n",
       "2001-10-11    False\n",
       "2001-10-12    False\n",
       "              ...  \n",
       "2020-01-21    False\n",
       "2020-01-22    False\n",
       "2020-01-23    False\n",
       "2020-02-03    False\n",
       "2020-02-04    False\n",
       "2020-02-05    False\n",
       "2020-02-06    False\n",
       "2020-02-07    False\n",
       "2020-02-10    False\n",
       "2020-02-11     True\n",
       "2020-02-12    False\n",
       "2020-02-13    False\n",
       "2020-02-14    False\n",
       "2020-02-17    False\n",
       "2020-02-18    False\n",
       "2020-02-19    False\n",
       "2020-02-20    False\n",
       "2020-02-21    False\n",
       "2020-02-24    False\n",
       "2020-02-25    False\n",
       "2020-02-26    False\n",
       "2020-02-27    False\n",
       "2020-02-28    False\n",
       "2020-03-02     True\n",
       "2020-03-03    False\n",
       "2020-03-04    False\n",
       "2020-03-05     True\n",
       "2020-03-06    False\n",
       "2020-03-09    False\n",
       "2020-03-10     True\n",
       "Length: 4421, dtype: bool"
      ]
     },
     "execution_count": 77,
     "metadata": {},
     "output_type": "execute_result"
    }
   ],
   "source": [
    "#输出该股票所有收盘比开盘上涨3%以上的日期\n",
    "(df['close'] - df['open']) / df['open'] > 0.03"
   ]
  },
  {
   "cell_type": "code",
   "execution_count": 78,
   "metadata": {
    "ExecuteTime": {
     "end_time": "2020-03-11T11:54:09.119486Z",
     "start_time": "2020-03-11T11:54:09.112504Z"
    }
   },
   "outputs": [
    {
     "data": {
      "text/plain": [
       "DatetimeIndex(['2001-08-27', '2001-08-28', '2001-09-10', '2001-12-21',\n",
       "               '2002-01-18', '2002-01-31', '2003-01-14', '2003-10-29',\n",
       "               '2004-01-05', '2004-01-14',\n",
       "               ...\n",
       "               '2019-05-10', '2019-05-15', '2019-06-11', '2019-06-20',\n",
       "               '2019-09-12', '2019-09-18', '2020-02-11', '2020-03-02',\n",
       "               '2020-03-05', '2020-03-10'],\n",
       "              dtype='datetime64[ns]', name='date', length=307, freq=None)"
      ]
     },
     "execution_count": 78,
     "metadata": {},
     "output_type": "execute_result"
    }
   ],
   "source": [
    "#布尔值可以作为df的行索引\n",
    "df.loc[(df['close'] - df['open']) / df['open'] > 0.03].index"
   ]
  },
  {
   "cell_type": "code",
   "execution_count": 79,
   "metadata": {
    "ExecuteTime": {
     "end_time": "2020-03-11T11:54:09.657987Z",
     "start_time": "2020-03-11T11:54:09.648982Z"
    }
   },
   "outputs": [
    {
     "data": {
      "text/plain": [
       "DatetimeIndex(['2001-09-12', '2002-06-26', '2002-12-13', '2004-07-01',\n",
       "               '2004-10-29', '2006-08-21', '2006-08-23', '2007-01-25',\n",
       "               '2007-02-01', '2007-02-06', '2007-03-19', '2007-05-21',\n",
       "               '2007-05-30', '2007-06-05', '2007-07-27', '2007-09-05',\n",
       "               '2007-09-10', '2008-03-13', '2008-03-17', '2008-03-25',\n",
       "               '2008-03-27', '2008-04-22', '2008-04-23', '2008-04-29',\n",
       "               '2008-05-13', '2008-06-10', '2008-06-13', '2008-06-24',\n",
       "               '2008-06-27', '2008-08-11', '2008-08-19', '2008-09-23',\n",
       "               '2008-10-10', '2008-10-15', '2008-10-16', '2008-10-20',\n",
       "               '2008-10-23', '2008-10-27', '2008-11-06', '2008-11-12',\n",
       "               '2008-11-20', '2008-11-21', '2008-12-02', '2009-02-27',\n",
       "               '2009-03-25', '2009-08-13', '2010-04-26', '2010-04-30',\n",
       "               '2011-08-05', '2012-03-27', '2012-08-10', '2012-11-22',\n",
       "               '2012-12-04', '2012-12-24', '2013-01-16', '2013-01-25',\n",
       "               '2013-09-02', '2014-04-25', '2015-01-19', '2015-05-25',\n",
       "               '2015-07-03', '2015-07-08', '2015-07-13', '2015-08-24',\n",
       "               '2015-09-02', '2015-09-15', '2017-11-17', '2018-02-06',\n",
       "               '2018-02-09', '2018-03-23', '2018-03-28', '2018-07-11',\n",
       "               '2018-10-11', '2018-10-24', '2018-10-25', '2018-10-29',\n",
       "               '2018-10-30', '2019-05-06', '2019-05-08', '2019-10-16',\n",
       "               '2020-01-02', '2020-02-03'],\n",
       "              dtype='datetime64[ns]', name='date', freq=None)"
      ]
     },
     "execution_count": 79,
     "metadata": {},
     "output_type": "execute_result"
    }
   ],
   "source": [
    "#输出该股票所有开盘比前日收盘跌幅超过2%的日期\n",
    "#shift(1)表示让一个Series中的数据整体下移一位\n",
    "(df['open']-df['close'].shift(1))/df['close'].shift(1) < -0.02\n",
    "df.loc[(df['open']-df['close'].shift(1))/df['close'].shift(1) < -0.02].index"
   ]
  },
  {
   "cell_type": "markdown",
   "metadata": {},
   "source": [
    "- 假如某人从2010.01.01开始，每月第一个交易日买入一手股票，每年最后一个交易日 卖出所有股票，到今天，他的收益如何？\n",
    "- 分析：\n",
    "     - 买入：\n",
    "         - 一个完整的年需要买12次股票，一次买一手（100股），总共买入1200股\n",
    "     - 卖出：\n",
    "         - 一个完整的年卖一次，一次卖出1200股\n"
   ]
  },
  {
   "cell_type": "code",
   "execution_count": 80,
   "metadata": {
    "ExecuteTime": {
     "end_time": "2020-03-11T11:54:10.790894Z",
     "start_time": "2020-03-11T11:54:10.784882Z"
    }
   },
   "outputs": [],
   "source": [
    "#将2010.01.01到今天对应的交易数据去除\n",
    "data = df['2010':'2020']"
   ]
  },
  {
   "cell_type": "code",
   "execution_count": 81,
   "metadata": {
    "ExecuteTime": {
     "end_time": "2020-03-11T11:54:11.339786Z",
     "start_time": "2020-03-11T11:54:11.328786Z"
    }
   },
   "outputs": [],
   "source": [
    "#数据的重新取样\n",
    "data_monthly = data.resample('M').first()\n",
    "cost_money = (data_monthly['open']*100).sum()"
   ]
  },
  {
   "cell_type": "code",
   "execution_count": 82,
   "metadata": {
    "ExecuteTime": {
     "end_time": "2020-03-11T11:54:11.761703Z",
     "start_time": "2020-03-11T11:54:11.752700Z"
    }
   },
   "outputs": [
    {
     "data": {
      "text/plain": [
       "4368184.8"
      ]
     },
     "execution_count": 82,
     "metadata": {},
     "output_type": "execute_result"
    }
   ],
   "source": [
    "#卖出股票得到的钱\n",
    "data_yearsly = data.resample('A').last()[:-1]\n",
    "recv_money = (data_yearsly['open']*1200).sum()\n",
    "recv_money"
   ]
  },
  {
   "cell_type": "code",
   "execution_count": 83,
   "metadata": {
    "ExecuteTime": {
     "end_time": "2020-03-11T11:54:12.204594Z",
     "start_time": "2020-03-11T11:54:12.200639Z"
    }
   },
   "outputs": [],
   "source": [
    "#2020年手里剩余的股票价值计算在收益内\n",
    "last_money = 300*data['close'][-1]"
   ]
  },
  {
   "cell_type": "code",
   "execution_count": 84,
   "metadata": {
    "ExecuteTime": {
     "end_time": "2020-03-11T11:54:12.709258Z",
     "start_time": "2020-03-11T11:54:12.705298Z"
    }
   },
   "outputs": [
    {
     "data": {
      "text/plain": [
       "599767.7000000002"
      ]
     },
     "execution_count": 84,
     "metadata": {},
     "output_type": "execute_result"
    }
   ],
   "source": [
    "last_money + recv_money - cost_money"
   ]
  },
  {
   "cell_type": "markdown",
   "metadata": {},
   "source": [
    "# 双均线策略模型"
   ]
  },
  {
   "cell_type": "code",
   "execution_count": 136,
   "metadata": {
    "ExecuteTime": {
     "end_time": "2020-03-11T12:47:11.806602Z",
     "start_time": "2020-03-11T12:47:08.375375Z"
    }
   },
   "outputs": [
    {
     "data": {
      "text/html": [
       "<div>\n",
       "<style scoped>\n",
       "    .dataframe tbody tr th:only-of-type {\n",
       "        vertical-align: middle;\n",
       "    }\n",
       "\n",
       "    .dataframe tbody tr th {\n",
       "        vertical-align: top;\n",
       "    }\n",
       "\n",
       "    .dataframe thead th {\n",
       "        text-align: right;\n",
       "    }\n",
       "</style>\n",
       "<table border=\"1\" class=\"dataframe\">\n",
       "  <thead>\n",
       "    <tr style=\"text-align: right;\">\n",
       "      <th></th>\n",
       "      <th>date</th>\n",
       "      <th>open</th>\n",
       "      <th>close</th>\n",
       "      <th>high</th>\n",
       "      <th>low</th>\n",
       "      <th>volume</th>\n",
       "      <th>code</th>\n",
       "    </tr>\n",
       "  </thead>\n",
       "  <tbody>\n",
       "    <tr>\n",
       "      <th>0</th>\n",
       "      <td>2007-03-01</td>\n",
       "      <td>21.254</td>\n",
       "      <td>19.890</td>\n",
       "      <td>21.666</td>\n",
       "      <td>19.469</td>\n",
       "      <td>1977633.51</td>\n",
       "      <td>601318</td>\n",
       "    </tr>\n",
       "    <tr>\n",
       "      <th>1</th>\n",
       "      <td>2007-03-02</td>\n",
       "      <td>19.979</td>\n",
       "      <td>19.728</td>\n",
       "      <td>20.166</td>\n",
       "      <td>19.503</td>\n",
       "      <td>425048.32</td>\n",
       "      <td>601318</td>\n",
       "    </tr>\n",
       "    <tr>\n",
       "      <th>2</th>\n",
       "      <td>2007-03-05</td>\n",
       "      <td>19.545</td>\n",
       "      <td>18.865</td>\n",
       "      <td>19.626</td>\n",
       "      <td>18.504</td>\n",
       "      <td>419196.74</td>\n",
       "      <td>601318</td>\n",
       "    </tr>\n",
       "    <tr>\n",
       "      <th>3</th>\n",
       "      <td>2007-03-06</td>\n",
       "      <td>18.704</td>\n",
       "      <td>19.235</td>\n",
       "      <td>19.554</td>\n",
       "      <td>18.597</td>\n",
       "      <td>297727.88</td>\n",
       "      <td>601318</td>\n",
       "    </tr>\n",
       "    <tr>\n",
       "      <th>4</th>\n",
       "      <td>2007-03-07</td>\n",
       "      <td>19.252</td>\n",
       "      <td>19.758</td>\n",
       "      <td>19.936</td>\n",
       "      <td>19.090</td>\n",
       "      <td>287463.78</td>\n",
       "      <td>601318</td>\n",
       "    </tr>\n",
       "    <tr>\n",
       "      <th>5</th>\n",
       "      <td>2007-03-08</td>\n",
       "      <td>19.596</td>\n",
       "      <td>19.520</td>\n",
       "      <td>19.694</td>\n",
       "      <td>19.418</td>\n",
       "      <td>130983.83</td>\n",
       "      <td>601318</td>\n",
       "    </tr>\n",
       "    <tr>\n",
       "      <th>6</th>\n",
       "      <td>2007-03-09</td>\n",
       "      <td>19.511</td>\n",
       "      <td>19.354</td>\n",
       "      <td>19.596</td>\n",
       "      <td>19.001</td>\n",
       "      <td>160887.79</td>\n",
       "      <td>601318</td>\n",
       "    </tr>\n",
       "    <tr>\n",
       "      <th>7</th>\n",
       "      <td>2007-03-12</td>\n",
       "      <td>19.256</td>\n",
       "      <td>19.005</td>\n",
       "      <td>19.256</td>\n",
       "      <td>18.916</td>\n",
       "      <td>145353.06</td>\n",
       "      <td>601318</td>\n",
       "    </tr>\n",
       "    <tr>\n",
       "      <th>8</th>\n",
       "      <td>2007-03-13</td>\n",
       "      <td>19.048</td>\n",
       "      <td>19.082</td>\n",
       "      <td>19.239</td>\n",
       "      <td>18.967</td>\n",
       "      <td>102319.68</td>\n",
       "      <td>601318</td>\n",
       "    </tr>\n",
       "    <tr>\n",
       "      <th>9</th>\n",
       "      <td>2007-03-14</td>\n",
       "      <td>18.831</td>\n",
       "      <td>19.103</td>\n",
       "      <td>19.171</td>\n",
       "      <td>18.614</td>\n",
       "      <td>173306.56</td>\n",
       "      <td>601318</td>\n",
       "    </tr>\n",
       "  </tbody>\n",
       "</table>\n",
       "</div>"
      ],
      "text/plain": [
       "         date    open   close    high     low      volume    code\n",
       "0  2007-03-01  21.254  19.890  21.666  19.469  1977633.51  601318\n",
       "1  2007-03-02  19.979  19.728  20.166  19.503   425048.32  601318\n",
       "2  2007-03-05  19.545  18.865  19.626  18.504   419196.74  601318\n",
       "3  2007-03-06  18.704  19.235  19.554  18.597   297727.88  601318\n",
       "4  2007-03-07  19.252  19.758  19.936  19.090   287463.78  601318\n",
       "5  2007-03-08  19.596  19.520  19.694  19.418   130983.83  601318\n",
       "6  2007-03-09  19.511  19.354  19.596  19.001   160887.79  601318\n",
       "7  2007-03-12  19.256  19.005  19.256  18.916   145353.06  601318\n",
       "8  2007-03-13  19.048  19.082  19.239  18.967   102319.68  601318\n",
       "9  2007-03-14  18.831  19.103  19.171  18.614   173306.56  601318"
      ]
     },
     "execution_count": 136,
     "metadata": {},
     "output_type": "execute_result"
    }
   ],
   "source": [
    "df = ts.get_k_data('601318', start='1988-01-01')\n",
    "df.head(10)"
   ]
  },
  {
   "cell_type": "code",
   "execution_count": 137,
   "metadata": {
    "ExecuteTime": {
     "end_time": "2020-03-11T12:47:11.820594Z",
     "start_time": "2020-03-11T12:47:11.807628Z"
    }
   },
   "outputs": [
    {
     "data": {
      "text/html": [
       "<div>\n",
       "<style scoped>\n",
       "    .dataframe tbody tr th:only-of-type {\n",
       "        vertical-align: middle;\n",
       "    }\n",
       "\n",
       "    .dataframe tbody tr th {\n",
       "        vertical-align: top;\n",
       "    }\n",
       "\n",
       "    .dataframe thead th {\n",
       "        text-align: right;\n",
       "    }\n",
       "</style>\n",
       "<table border=\"1\" class=\"dataframe\">\n",
       "  <thead>\n",
       "    <tr style=\"text-align: right;\">\n",
       "      <th></th>\n",
       "      <th>date</th>\n",
       "      <th>open</th>\n",
       "      <th>close</th>\n",
       "      <th>high</th>\n",
       "      <th>low</th>\n",
       "      <th>volume</th>\n",
       "      <th>code</th>\n",
       "      <th>ma5</th>\n",
       "      <th>ma30</th>\n",
       "    </tr>\n",
       "  </thead>\n",
       "  <tbody>\n",
       "    <tr>\n",
       "      <th>3093</th>\n",
       "      <td>2020-02-26</td>\n",
       "      <td>79.45</td>\n",
       "      <td>79.83</td>\n",
       "      <td>80.76</td>\n",
       "      <td>79.11</td>\n",
       "      <td>844166.0</td>\n",
       "      <td>601318</td>\n",
       "      <td>81.280</td>\n",
       "      <td>82.827000</td>\n",
       "    </tr>\n",
       "    <tr>\n",
       "      <th>3094</th>\n",
       "      <td>2020-02-27</td>\n",
       "      <td>79.60</td>\n",
       "      <td>79.79</td>\n",
       "      <td>80.40</td>\n",
       "      <td>79.30</td>\n",
       "      <td>666793.0</td>\n",
       "      <td>601318</td>\n",
       "      <td>80.582</td>\n",
       "      <td>82.653333</td>\n",
       "    </tr>\n",
       "    <tr>\n",
       "      <th>3095</th>\n",
       "      <td>2020-02-28</td>\n",
       "      <td>78.60</td>\n",
       "      <td>77.72</td>\n",
       "      <td>79.29</td>\n",
       "      <td>77.71</td>\n",
       "      <td>983923.0</td>\n",
       "      <td>601318</td>\n",
       "      <td>79.650</td>\n",
       "      <td>82.409333</td>\n",
       "    </tr>\n",
       "    <tr>\n",
       "      <th>3096</th>\n",
       "      <td>2020-03-02</td>\n",
       "      <td>78.32</td>\n",
       "      <td>79.58</td>\n",
       "      <td>80.20</td>\n",
       "      <td>78.32</td>\n",
       "      <td>712323.0</td>\n",
       "      <td>601318</td>\n",
       "      <td>79.422</td>\n",
       "      <td>82.236000</td>\n",
       "    </tr>\n",
       "    <tr>\n",
       "      <th>3097</th>\n",
       "      <td>2020-03-03</td>\n",
       "      <td>80.48</td>\n",
       "      <td>79.49</td>\n",
       "      <td>80.57</td>\n",
       "      <td>79.26</td>\n",
       "      <td>678238.0</td>\n",
       "      <td>601318</td>\n",
       "      <td>79.282</td>\n",
       "      <td>82.004000</td>\n",
       "    </tr>\n",
       "    <tr>\n",
       "      <th>3098</th>\n",
       "      <td>2020-03-04</td>\n",
       "      <td>79.90</td>\n",
       "      <td>80.58</td>\n",
       "      <td>80.75</td>\n",
       "      <td>79.90</td>\n",
       "      <td>677574.0</td>\n",
       "      <td>601318</td>\n",
       "      <td>79.432</td>\n",
       "      <td>81.795667</td>\n",
       "    </tr>\n",
       "    <tr>\n",
       "      <th>3099</th>\n",
       "      <td>2020-03-05</td>\n",
       "      <td>81.01</td>\n",
       "      <td>82.45</td>\n",
       "      <td>82.76</td>\n",
       "      <td>80.62</td>\n",
       "      <td>960642.0</td>\n",
       "      <td>601318</td>\n",
       "      <td>79.964</td>\n",
       "      <td>81.683667</td>\n",
       "    </tr>\n",
       "    <tr>\n",
       "      <th>3100</th>\n",
       "      <td>2020-03-06</td>\n",
       "      <td>81.57</td>\n",
       "      <td>80.91</td>\n",
       "      <td>81.92</td>\n",
       "      <td>80.80</td>\n",
       "      <td>584186.0</td>\n",
       "      <td>601318</td>\n",
       "      <td>80.602</td>\n",
       "      <td>81.529000</td>\n",
       "    </tr>\n",
       "    <tr>\n",
       "      <th>3101</th>\n",
       "      <td>2020-03-09</td>\n",
       "      <td>78.91</td>\n",
       "      <td>78.14</td>\n",
       "      <td>79.00</td>\n",
       "      <td>78.02</td>\n",
       "      <td>1055082.0</td>\n",
       "      <td>601318</td>\n",
       "      <td>80.314</td>\n",
       "      <td>81.258667</td>\n",
       "    </tr>\n",
       "    <tr>\n",
       "      <th>3102</th>\n",
       "      <td>2020-03-10</td>\n",
       "      <td>78.14</td>\n",
       "      <td>79.18</td>\n",
       "      <td>79.78</td>\n",
       "      <td>77.83</td>\n",
       "      <td>717006.0</td>\n",
       "      <td>601318</td>\n",
       "      <td>80.252</td>\n",
       "      <td>80.978000</td>\n",
       "    </tr>\n",
       "  </tbody>\n",
       "</table>\n",
       "</div>"
      ],
      "text/plain": [
       "            date   open  close   high    low     volume    code     ma5  \\\n",
       "3093  2020-02-26  79.45  79.83  80.76  79.11   844166.0  601318  81.280   \n",
       "3094  2020-02-27  79.60  79.79  80.40  79.30   666793.0  601318  80.582   \n",
       "3095  2020-02-28  78.60  77.72  79.29  77.71   983923.0  601318  79.650   \n",
       "3096  2020-03-02  78.32  79.58  80.20  78.32   712323.0  601318  79.422   \n",
       "3097  2020-03-03  80.48  79.49  80.57  79.26   678238.0  601318  79.282   \n",
       "3098  2020-03-04  79.90  80.58  80.75  79.90   677574.0  601318  79.432   \n",
       "3099  2020-03-05  81.01  82.45  82.76  80.62   960642.0  601318  79.964   \n",
       "3100  2020-03-06  81.57  80.91  81.92  80.80   584186.0  601318  80.602   \n",
       "3101  2020-03-09  78.91  78.14  79.00  78.02  1055082.0  601318  80.314   \n",
       "3102  2020-03-10  78.14  79.18  79.78  77.83   717006.0  601318  80.252   \n",
       "\n",
       "           ma30  \n",
       "3093  82.827000  \n",
       "3094  82.653333  \n",
       "3095  82.409333  \n",
       "3096  82.236000  \n",
       "3097  82.004000  \n",
       "3098  81.795667  \n",
       "3099  81.683667  \n",
       "3100  81.529000  \n",
       "3101  81.258667  \n",
       "3102  80.978000  "
      ]
     },
     "execution_count": 137,
     "metadata": {},
     "output_type": "execute_result"
    }
   ],
   "source": [
    "df['ma5'] = df['close'].rolling(5).mean()\n",
    "df['ma30'] = df['close'].rolling(30).mean()\n",
    "df.tail(10)"
   ]
  },
  {
   "cell_type": "code",
   "execution_count": 138,
   "metadata": {
    "ExecuteTime": {
     "end_time": "2020-03-11T12:47:11.839515Z",
     "start_time": "2020-03-11T12:47:11.822561Z"
    }
   },
   "outputs": [
    {
     "data": {
      "text/html": [
       "<div>\n",
       "<style scoped>\n",
       "    .dataframe tbody tr th:only-of-type {\n",
       "        vertical-align: middle;\n",
       "    }\n",
       "\n",
       "    .dataframe tbody tr th {\n",
       "        vertical-align: top;\n",
       "    }\n",
       "\n",
       "    .dataframe thead th {\n",
       "        text-align: right;\n",
       "    }\n",
       "</style>\n",
       "<table border=\"1\" class=\"dataframe\">\n",
       "  <thead>\n",
       "    <tr style=\"text-align: right;\">\n",
       "      <th></th>\n",
       "      <th>open</th>\n",
       "      <th>close</th>\n",
       "      <th>high</th>\n",
       "      <th>low</th>\n",
       "      <th>volume</th>\n",
       "      <th>code</th>\n",
       "      <th>ma5</th>\n",
       "      <th>ma30</th>\n",
       "    </tr>\n",
       "    <tr>\n",
       "      <th>date</th>\n",
       "      <th></th>\n",
       "      <th></th>\n",
       "      <th></th>\n",
       "      <th></th>\n",
       "      <th></th>\n",
       "      <th></th>\n",
       "      <th></th>\n",
       "      <th></th>\n",
       "    </tr>\n",
       "  </thead>\n",
       "  <tbody>\n",
       "    <tr>\n",
       "      <th>2007-03-01</th>\n",
       "      <td>21.254</td>\n",
       "      <td>19.890</td>\n",
       "      <td>21.666</td>\n",
       "      <td>19.469</td>\n",
       "      <td>1977633.51</td>\n",
       "      <td>601318</td>\n",
       "      <td>NaN</td>\n",
       "      <td>NaN</td>\n",
       "    </tr>\n",
       "    <tr>\n",
       "      <th>2007-03-02</th>\n",
       "      <td>19.979</td>\n",
       "      <td>19.728</td>\n",
       "      <td>20.166</td>\n",
       "      <td>19.503</td>\n",
       "      <td>425048.32</td>\n",
       "      <td>601318</td>\n",
       "      <td>NaN</td>\n",
       "      <td>NaN</td>\n",
       "    </tr>\n",
       "    <tr>\n",
       "      <th>2007-03-05</th>\n",
       "      <td>19.545</td>\n",
       "      <td>18.865</td>\n",
       "      <td>19.626</td>\n",
       "      <td>18.504</td>\n",
       "      <td>419196.74</td>\n",
       "      <td>601318</td>\n",
       "      <td>NaN</td>\n",
       "      <td>NaN</td>\n",
       "    </tr>\n",
       "    <tr>\n",
       "      <th>2007-03-06</th>\n",
       "      <td>18.704</td>\n",
       "      <td>19.235</td>\n",
       "      <td>19.554</td>\n",
       "      <td>18.597</td>\n",
       "      <td>297727.88</td>\n",
       "      <td>601318</td>\n",
       "      <td>NaN</td>\n",
       "      <td>NaN</td>\n",
       "    </tr>\n",
       "    <tr>\n",
       "      <th>2007-03-07</th>\n",
       "      <td>19.252</td>\n",
       "      <td>19.758</td>\n",
       "      <td>19.936</td>\n",
       "      <td>19.090</td>\n",
       "      <td>287463.78</td>\n",
       "      <td>601318</td>\n",
       "      <td>19.4952</td>\n",
       "      <td>NaN</td>\n",
       "    </tr>\n",
       "  </tbody>\n",
       "</table>\n",
       "</div>"
      ],
      "text/plain": [
       "              open   close    high     low      volume    code      ma5  ma30\n",
       "date                                                                         \n",
       "2007-03-01  21.254  19.890  21.666  19.469  1977633.51  601318      NaN   NaN\n",
       "2007-03-02  19.979  19.728  20.166  19.503   425048.32  601318      NaN   NaN\n",
       "2007-03-05  19.545  18.865  19.626  18.504   419196.74  601318      NaN   NaN\n",
       "2007-03-06  18.704  19.235  19.554  18.597   297727.88  601318      NaN   NaN\n",
       "2007-03-07  19.252  19.758  19.936  19.090   287463.78  601318  19.4952   NaN"
      ]
     },
     "execution_count": 138,
     "metadata": {},
     "output_type": "execute_result"
    }
   ],
   "source": [
    "#数据预处理\n",
    "df['date'] = pd.to_datetime(df['date'])\n",
    "df.set_index(df['date'],inplace=True)\n",
    "df.drop(labels='date',axis=1,inplace=True)\n",
    "df.head()"
   ]
  },
  {
   "cell_type": "code",
   "execution_count": 139,
   "metadata": {
    "ExecuteTime": {
     "end_time": "2020-03-11T12:47:11.846525Z",
     "start_time": "2020-03-11T12:47:11.841510Z"
    }
   },
   "outputs": [],
   "source": [
    "df['ma5'] = df['close'].rolling(5).mean()\n",
    "df['ma30'] = df['close'].rolling(30).mean()"
   ]
  },
  {
   "cell_type": "code",
   "execution_count": 140,
   "metadata": {
    "ExecuteTime": {
     "end_time": "2020-03-11T12:47:11.856494Z",
     "start_time": "2020-03-11T12:47:11.847520Z"
    }
   },
   "outputs": [
    {
     "data": {
      "text/plain": [
       "pandas._libs.tslibs.timestamps.Timestamp"
      ]
     },
     "execution_count": 140,
     "metadata": {},
     "output_type": "execute_result"
    }
   ],
   "source": [
    "type(df.index[0])"
   ]
  },
  {
   "cell_type": "code",
   "execution_count": 141,
   "metadata": {
    "ExecuteTime": {
     "end_time": "2020-03-11T12:47:11.984155Z",
     "start_time": "2020-03-11T12:47:11.857467Z"
    }
   },
   "outputs": [
    {
     "data": {
      "text/plain": [
       "[<matplotlib.lines.Line2D at 0x226f614e898>]"
      ]
     },
     "execution_count": 141,
     "metadata": {},
     "output_type": "execute_result"
    },
    {
     "data": {
      "image/png": "[encoded data removed]",
      "text/plain": [
       "<Figure size 432x288 with 1 Axes>"
      ]
     },
     "metadata": {
      "needs_background": "light"
     },
     "output_type": "display_data"
    }
   ],
   "source": [
    "import matplotlib.pyplot as plt\n",
    "df_p = df[:300]\n",
    "plt.plot(df_p.index,df_p['ma5'],c='red')\n",
    "plt.plot(df_p.index,df_p['ma30'],c='blue')"
   ]
  },
  {
   "cell_type": "markdown",
   "metadata": {},
   "source": [
    "- True:短期均线低于长期均线\n",
    "- False：短期均线高于长期均线"
   ]
  },
  {
   "cell_type": "code",
   "execution_count": 142,
   "metadata": {
    "ExecuteTime": {
     "end_time": "2020-03-11T12:47:11.988146Z",
     "start_time": "2020-03-11T12:47:11.985124Z"
    }
   },
   "outputs": [],
   "source": [
    "#True-->False的过渡为金叉，False-->True的过渡为死叉\n",
    "sr1 = df['ma5'] < df['ma30']\n",
    "\n"
   ]
  },
  {
   "cell_type": "code",
   "execution_count": 143,
   "metadata": {
    "ExecuteTime": {
     "end_time": "2020-03-11T12:47:11.999125Z",
     "start_time": "2020-03-11T12:47:11.989143Z"
    }
   },
   "outputs": [],
   "source": [
    "sr2 = df['ma5'] >= df['ma30']"
   ]
  },
  {
   "cell_type": "code",
   "execution_count": 144,
   "metadata": {
    "ExecuteTime": {
     "end_time": "2020-03-11T12:47:12.008161Z",
     "start_time": "2020-03-11T12:47:12.000098Z"
    }
   },
   "outputs": [],
   "source": [
    "#获取死叉日期\n",
    "death_date = df.loc[sr1 & sr2.shift(1)].index"
   ]
  },
  {
   "cell_type": "code",
   "execution_count": 145,
   "metadata": {
    "ExecuteTime": {
     "end_time": "2020-03-11T12:47:12.019076Z",
     "start_time": "2020-03-11T12:47:12.009075Z"
    }
   },
   "outputs": [
    {
     "data": {
      "text/plain": [
       "DatetimeIndex(['2007-03-01', '2007-03-02', '2007-03-05', '2007-03-06',\n",
       "               '2007-03-07', '2007-03-08', '2007-03-09', '2007-03-12',\n",
       "               '2007-03-13', '2007-03-14',\n",
       "               ...\n",
       "               '2018-10-22', '2018-11-06', '2018-11-19', '2019-01-21',\n",
       "               '2019-06-13', '2019-08-21', '2019-10-14', '2019-11-05',\n",
       "               '2019-12-19', '2020-01-02'],\n",
       "              dtype='datetime64[ns]', name='date', length=102, freq=None)"
      ]
     },
     "execution_count": 145,
     "metadata": {},
     "output_type": "execute_result"
    }
   ],
   "source": [
    "#获取金叉日期 \n",
    "golden_date = df.loc[~(sr1 | sr2.shift(1))].index\n",
    "golden_date"
   ]
  },
  {
   "cell_type": "markdown",
   "metadata": {},
   "source": [
    "- 如果某人初始资金100000元，从一开始，金叉尽量买入，死叉全部卖出，则到今天为止，他的收益如何？"
   ]
  },
  {
   "cell_type": "code",
   "execution_count": 146,
   "metadata": {
    "ExecuteTime": {
     "end_time": "2020-03-11T12:47:13.497109Z",
     "start_time": "2020-03-11T12:47:13.485141Z"
    },
    "collapsed": true
   },
   "outputs": [
    {
     "name": "stdout",
     "output_type": "stream",
     "text": [
      "nan\n"
     ]
    },
    {
     "name": "stderr",
     "output_type": "stream",
     "text": [
      "D:\\Anaconda3\\lib\\site-packages\\ipykernel_launcher.py:16: RuntimeWarning: overflow encountered in double_scalars\n",
      "  app.launch_new_instance()\n",
      "D:\\Anaconda3\\lib\\site-packages\\ipykernel_launcher.py:19: RuntimeWarning: overflow encountered in double_scalars\n",
      "D:\\Anaconda3\\lib\\site-packages\\ipykernel_launcher.py:19: RuntimeWarning: invalid value encountered in double_scalars\n",
      "D:\\Anaconda3\\lib\\site-packages\\ipykernel_launcher.py:14: RuntimeWarning: invalid value encountered in double_scalars\n",
      "  \n"
     ]
    }
   ],
   "source": [
    "first_money = 100000 #成本不变\n",
    "money = first_money \n",
    "hold = 0 #持有股数\n",
    "s1 = Series(1,index=golden_date) #存储的是金叉日期，用1表示\n",
    "s2 = Series(0,index=death_date) #存储的是死叉日期，用0表示\n",
    "s = s1.append(s2)\n",
    "s = s.sort_index()\n",
    "\n",
    "#使用开盘价进行股票买卖\n",
    "for i in range(0,len(s)):\n",
    "    #买入和卖出的单价\n",
    "    p = df['open'][s.index[i]]\n",
    "    if s[i] == 1: #金叉日期\n",
    "        buy = money // p * 100\n",
    "        hold = buy * 100\n",
    "        money -= buy*100*p\n",
    "        \n",
    "    else: #卖出\n",
    "        money += hold*p\n",
    "        hold = 0\n",
    "        \n",
    "money += hold * df['open'][-1]\n",
    "result = money - first_money\n",
    "print(result)"
   ]
  }
 ],
 "metadata": {
  "kernelspec": {
   "display_name": "Python 3",
   "language": "python",
   "name": "python3"
  },
  "language_info": {
   "codemirror_mode": {
    "name": "ipython",
    "version": 3
   },
   "file_extension": ".py",
   "mimetype": "text/x-python",
   "name": "python",
   "nbconvert_exporter": "python",
   "pygments_lexer": "ipython3",
   "version": "3.7.0"
  }
 },
 "nbformat": 4,
 "nbformat_minor": 2
}
